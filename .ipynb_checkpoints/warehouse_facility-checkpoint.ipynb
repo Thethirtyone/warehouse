{
 "cells": [
  {
   "cell_type": "markdown",
   "metadata": {},
   "source": [
    "# Rebel/Geru Warehouse Financing\n",
    "### Scenario Simulator\n",
    "Assuming a warehouse facility with terms detailed as variables below."
   ]
  },
  {
   "cell_type": "code",
   "execution_count": 2,
   "metadata": {},
   "outputs": [],
   "source": [
    "# Import of necessary Python Libraries\n",
    "from dateutil import parser\n",
    "import pandas as pd\n",
    "import numpy as np"
   ]
  },
  {
   "cell_type": "code",
   "execution_count": 3,
   "metadata": {},
   "outputs": [],
   "source": [
    "# Global Variables\n",
    "# ----------------\n",
    "# Indicative Terms of Facility\n",
    "COUNTERPARTY = 'GS Bank'\n",
    "CURRENCY = 'BRL'\n",
    "USDBRL = 5.40\n",
    "SIZE_USD = 180e6\n",
    "SIZE_BRL = SIZE_USD * USDBRL\n",
    "COMMITED_USD = 60e6\n",
    "COMMITED_BRL = COMMITED_USD * USDBRL\n",
    "UNCOMMITED_USD = SIZE_USD - COMMITED_USD\n",
    "UNCOMMITED_BRL = SIZE_BRL - COMMITED_BRL\n",
    "START_DATE = parser.parse(\"01-01-2021\")\n",
    "TERM = 48  # In Months\n",
    "REVOLV_PERIOD = 30  # In Months\n",
    "AMORT_PERIOD = TERM - REVOLV_PERIOD\n",
    "\n",
    "# Fees\n",
    "SERVICING_FEE = 0.03\n",
    "ORIGINATION_FEE = 0.05\n",
    "UPFRONT_FEE = 0.01\n",
    "NON_USE_FEE = 0.01\n",
    "# Min utilization fee below is in the format (month_beginning, fee)\n",
    "MIN_FEE_SCHEDULE = [(0, 0.25), (3, 0.40), (6, 0.6), (12, 0.75)]\n",
    "EXIT_FEE = 0.02\n",
    "\n",
    "# Spread and rates\n",
    "ADVANCE_RATE = 0.70  # of the unpaid balance of each loan\n",
    "N_DAYS_AR_ZERO = 30  # After 30 days late, loan AR = 0\n",
    "COUPON_CDI_SPREAD = 400\n",
    "AMORT_PERIOD_SPREAD = 50  # Additional spread during amort period\n",
    "RAPID_AMORT_SPREAD = 100\n",
    "CDI_FLOOR = 0.015\n",
    "\n",
    "# Indicative Equity Terms\n",
    "LEAD_EQUITY = 10e6\n",
    "MIN_ROUND_SIZE = 25e6\n",
    "PRE_MONEY_VAL = 200e6\n",
    "LEAD_WARRANTS = 0.01\n"
   ]
  },
  {
   "cell_type": "code",
   "execution_count": 6,
   "metadata": {},
   "outputs": [],
   "source": [
    "# Create Monthly cash flows"
   ]
  }
 ],
 "metadata": {
  "kernelspec": {
   "display_name": "Python 3.7.3 64-bit",
   "language": "python",
   "name": "python37364bit179b195b5acc4ad6bb4a0b00405cb55d"
  },
  "language_info": {
   "codemirror_mode": {
    "name": "ipython",
    "version": 3
   },
   "file_extension": ".py",
   "mimetype": "text/x-python",
   "name": "python",
   "nbconvert_exporter": "python",
   "pygments_lexer": "ipython3",
   "version": "3.7.3"
  }
 },
 "nbformat": 4,
 "nbformat_minor": 4
}
